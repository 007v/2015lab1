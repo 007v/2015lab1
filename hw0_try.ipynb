{
 "cells": [
  {
   "cell_type": "code",
   "execution_count": 3,
   "metadata": {
    "collapsed": true
   },
   "outputs": [],
   "source": [
    "import numpy as np"
   ]
  },
  {
   "cell_type": "code",
   "execution_count": 47,
   "metadata": {
    "collapsed": false
   },
   "outputs": [],
   "source": [
    "def simulate_prizedoor (nsim):\n",
    "    sims=np.random.randint(0,3,size=nsim)\n",
    "    return sims\n",
    "\n",
    "def simulate_guess (nsim):\n",
    "    #guesses= np.zeros(nsim, dtype=np.int)\n",
    "    guesses= np.random.randint(0,3,size=nsim)\n",
    "    return guesses\n",
    "\n",
    "\n",
    "def goat_door(prizedoors, guesses):\n",
    "    option=np.arange(0,3)\n",
    "    #print option.size\n",
    "    i=0\n",
    "    goats=np.zeros(prizedoors.size, dtype=np.int)\n",
    "    for i in range(prizedoors.size):  #range does not include the maximum\n",
    "        k=0\n",
    "        for k in range(option.size):\n",
    "            #print \"option\",option[k],\"prizedoor\",prizedoors[i],\"guesses\",guesses[i],\"i\",i           \n",
    "            if ((option[k]!=prizedoors[i])&(option[k]!=guesses[i])):\n",
    "                goats[i]=option[k] \n",
    "                #print \"goats\",goats\n",
    "                break\n",
    "    return goats\n",
    "\n",
    "def switch_guess (guesses,goatdoors):\n",
    "    result = np.random.randint(0, 3, guesses.size)\n",
    "    while True:\n",
    "        bad = (result == goatdoors) | (result == guesses) #returns an array of true or false boolen judgements\n",
    "        #print \"bad: \", bad\n",
    "        if not bad.any():\n",
    "            return result\n",
    "        result[bad] = np.random.randint(0, 3, bad.sum()) "
   ]
  },
  {
   "cell_type": "code",
   "execution_count": 48,
   "metadata": {
    "collapsed": false
   },
   "outputs": [
    {
     "name": "stdout",
     "output_type": "stream",
     "text": [
      "[0 1 1 0 2 1 0] prizes\n",
      "[0 0 1 1 1 1 0] guesses\n",
      "[1 2 0 2 0 0 1] goats\n",
      "[2 1 2 0 2 2 2] switched guesses\n"
     ]
    }
   ],
   "source": [
    "prizedoors=simulate_prizedoor(7)\n",
    "guesses=simulate_guess(7)\n",
    "goatdoors=goat_door(prizedoors,guesses)\n",
    "\n",
    "print prizedoors, \"prizes\"\n",
    "print guesses,\"guesses\"\n",
    "print goatdoors,\"goats\"\n",
    "print switch_guess (guesses,goatdoors),\"switched guesses\"\n"
   ]
  },
  {
   "cell_type": "code",
   "execution_count": 20,
   "metadata": {
    "collapsed": false
   },
   "outputs": [],
   "source": [
    "def simulate_prizedoor(nsim):\n",
    "    return np.random.randint(0, 3, (nsim))\n",
    "\n",
    "def simulate_guess(nsim):\n",
    "    return np.zeros(nsim, dtype=np.int)\n",
    "\n",
    "def goat_door(prizedoors, guesses):\n",
    "    result = np.random.randint(0, 3, prizedoors.size)\n",
    "    #print result\n",
    "    while True:\n",
    "        bad = (result == prizedoors) | (result == guesses) #returns an array of true or false boolen judgements\n",
    "        #print \"bad: \", bad\n",
    "        if not bad.any():\n",
    "            return result\n",
    "        result[bad] = np.random.randint(0, 3, bad.sum()) #generates new values for the bad cases, \n",
    "                                                            #indice match with the original results array, \n",
    "                                                            #essentially this updates the results array with \n",
    "                                                            #bad cases replaced by newly generated random results\n",
    "        #print \"result[bad]: \",result[bad]\n",
    "        #print \"result: \", result\n",
    "        \n",
    "#not quite clear\n",
    "def switch_guess(guesses, goatdoors):\n",
    "    result = np.zeros(guesses.size)\n",
    "    switch = {(0, 1): 2, (0, 2): 1, (1, 0): 2, (1, 2): 1, (2, 0): 1, (2, 1): 0}\n",
    "    for i in [0, 1, 2]:\n",
    "        for j in [0, 1, 2]:\n",
    "            mask = (guesses == i) & (goatdoors == j)\n",
    "            if not mask.any():\n",
    "                continue\n",
    "            result = np.where(mask, np.ones_like(result) * switch[(i, j)], result)\n",
    "    return result\n"
   ]
  },
  {
   "cell_type": "code",
   "execution_count": null,
   "metadata": {
    "collapsed": true
   },
   "outputs": [],
   "source": []
  }
 ],
 "metadata": {
  "kernelspec": {
   "display_name": "Python 2",
   "language": "python",
   "name": "python2"
  },
  "language_info": {
   "codemirror_mode": {
    "name": "ipython",
    "version": 2
   },
   "file_extension": ".py",
   "mimetype": "text/x-python",
   "name": "python",
   "nbconvert_exporter": "python",
   "pygments_lexer": "ipython2",
   "version": "2.7.13"
  }
 },
 "nbformat": 4,
 "nbformat_minor": 2
}
